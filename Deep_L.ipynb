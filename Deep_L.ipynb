{
 "cells": [
  {
   "cell_type": "code",
   "execution_count": 1,
   "metadata": {},
   "outputs": [],
   "source": [
    "import tensorflow as tf\n",
    "from tensorflow import keras\n",
    "import joblib\n",
    "from sklearn.model_selection import train_test_split\n",
    "import numpy as np\n",
    "import pandas as pd\n",
    "import cv2\n",
    "from server.Wavelet import wavelett_trans"
   ]
  },
  {
   "cell_type": "code",
   "execution_count": 2,
   "metadata": {},
   "outputs": [],
   "source": [
    "celeb_folders = joblib.load('celeb_folders')"
   ]
  },
  {
   "cell_type": "code",
   "execution_count": 3,
   "metadata": {},
   "outputs": [
    {
     "data": {
      "text/plain": [
       "{'ben_afflek': 0,\n",
       " 'jerry_seinfeld': 1,\n",
       " 'lionel_messi': 2,\n",
       " 'madonna': 3,\n",
       " 'maria_sharapova': 4,\n",
       " 'mindy_kaling': 5,\n",
       " 'roger_federer': 6,\n",
       " 'serena_williams': 7,\n",
       " 'virat_kohli': 8}"
      ]
     },
     "execution_count": 3,
     "metadata": {},
     "output_type": "execute_result"
    }
   ],
   "source": [
    "encode_celeb = {}\n",
    "c = 0\n",
    "\n",
    "for name in celeb_folders:\n",
    "    encode_celeb[name] = c\n",
    "    c += 1\n",
    "encode_celeb"
   ]
  },
  {
   "cell_type": "code",
   "execution_count": 4,
   "metadata": {},
   "outputs": [],
   "source": [
    "X = []\n",
    "Y = []\n",
    "for celeb, path in celeb_folders.items():\n",
    "    if not path:\n",
    "        continue\n",
    "    for train_data in path:\n",
    "        img_train = cv2.imread(train_data)\n",
    "        if img_train is None:\n",
    "            continue\n",
    "        scaled_raw_img = cv2.resize(img_train, (32,32))\n",
    "        img_har = wavelett_trans(img_train, level=5)\n",
    "        scaled_har_img = cv2.resize(img_har, (32,32))\n",
    "        stack_img = np.vstack((scaled_raw_img.reshape(32*32*3,1), scaled_har_img.reshape(32*32,1)))\n",
    "        stack_img = stack_img.reshape(64,64)\n",
    "        X.append(stack_img)\n",
    "        Y.append(encode_celeb[celeb])"
   ]
  },
  {
   "cell_type": "code",
   "execution_count": 5,
   "metadata": {},
   "outputs": [],
   "source": [
    "X = np.array(X, dtype=np.uint8)\n",
    "Y = np.array(Y, dtype=np.uint8)"
   ]
  },
  {
   "cell_type": "code",
   "execution_count": 6,
   "metadata": {},
   "outputs": [],
   "source": [
    "X_train, X_test, Y_train, Y_test = train_test_split(X,Y, random_state=20, test_size=0.1)"
   ]
  },
  {
   "cell_type": "code",
   "execution_count": 7,
   "metadata": {},
   "outputs": [],
   "source": [
    "X_train = X_train/255\n",
    "X_test = X_test/255"
   ]
  },
  {
   "cell_type": "code",
   "execution_count": 8,
   "metadata": {},
   "outputs": [
    {
     "data": {
      "text/plain": [
       "((198, 64, 64), (23, 64, 64))"
      ]
     },
     "execution_count": 8,
     "metadata": {},
     "output_type": "execute_result"
    }
   ],
   "source": [
    "X_train.shape, X_test.shape"
   ]
  },
  {
   "cell_type": "code",
   "execution_count": 9,
   "metadata": {},
   "outputs": [
    {
     "name": "stdout",
     "output_type": "stream",
     "text": [
      "Epoch 1/30\n",
      "7/7 [==============================] - 4s 128ms/step - loss: 2.2638 - accuracy: 0.1869\n",
      "Epoch 2/30\n",
      "7/7 [==============================] - 1s 147ms/step - loss: 1.9860 - accuracy: 0.3485\n",
      "Epoch 3/30\n",
      "7/7 [==============================] - 1s 134ms/step - loss: 1.8856 - accuracy: 0.3788\n",
      "Epoch 4/30\n",
      "7/7 [==============================] - 1s 146ms/step - loss: 1.7743 - accuracy: 0.4596\n",
      "Epoch 5/30\n",
      "7/7 [==============================] - 1s 140ms/step - loss: 1.6902 - accuracy: 0.5455\n",
      "Epoch 6/30\n",
      "7/7 [==============================] - 1s 140ms/step - loss: 1.6013 - accuracy: 0.6162\n",
      "Epoch 7/30\n",
      "7/7 [==============================] - 1s 121ms/step - loss: 1.5305 - accuracy: 0.6717\n",
      "Epoch 8/30\n",
      "7/7 [==============================] - 1s 137ms/step - loss: 1.4490 - accuracy: 0.7020\n",
      "Epoch 9/30\n",
      "7/7 [==============================] - 1s 140ms/step - loss: 1.3962 - accuracy: 0.7121\n",
      "Epoch 10/30\n",
      "7/7 [==============================] - 1s 140ms/step - loss: 1.3158 - accuracy: 0.7778\n",
      "Epoch 11/30\n",
      "7/7 [==============================] - 1s 148ms/step - loss: 1.2577 - accuracy: 0.7677\n",
      "Epoch 12/30\n",
      "7/7 [==============================] - 1s 132ms/step - loss: 1.2021 - accuracy: 0.8283\n",
      "Epoch 13/30\n",
      "7/7 [==============================] - 1s 140ms/step - loss: 1.1416 - accuracy: 0.8030\n",
      "Epoch 14/30\n",
      "7/7 [==============================] - 1s 141ms/step - loss: 1.0884 - accuracy: 0.8131\n",
      "Epoch 15/30\n",
      "7/7 [==============================] - 1s 140ms/step - loss: 1.0362 - accuracy: 0.8384\n",
      "Epoch 16/30\n",
      "7/7 [==============================] - 1s 138ms/step - loss: 0.9872 - accuracy: 0.8687\n",
      "Epoch 17/30\n",
      "7/7 [==============================] - 1s 138ms/step - loss: 0.9470 - accuracy: 0.9242\n",
      "Epoch 18/30\n",
      "7/7 [==============================] - 1s 134ms/step - loss: 0.9015 - accuracy: 0.9040\n",
      "Epoch 19/30\n",
      "7/7 [==============================] - 1s 127ms/step - loss: 0.8595 - accuracy: 0.8889\n",
      "Epoch 20/30\n",
      "7/7 [==============================] - 1s 141ms/step - loss: 0.8178 - accuracy: 0.8889\n",
      "Epoch 21/30\n",
      "7/7 [==============================] - 1s 132ms/step - loss: 0.7747 - accuracy: 0.9091\n",
      "Epoch 22/30\n",
      "7/7 [==============================] - 1s 139ms/step - loss: 0.7424 - accuracy: 0.9293\n",
      "Epoch 23/30\n",
      "7/7 [==============================] - 1s 123ms/step - loss: 0.7126 - accuracy: 0.9495\n",
      "Epoch 24/30\n",
      "7/7 [==============================] - 1s 129ms/step - loss: 0.6780 - accuracy: 0.9444\n",
      "Epoch 25/30\n",
      "7/7 [==============================] - 1s 124ms/step - loss: 0.6541 - accuracy: 0.9394\n",
      "Epoch 26/30\n",
      "7/7 [==============================] - 1s 133ms/step - loss: 0.6248 - accuracy: 0.9545\n",
      "Epoch 27/30\n",
      "7/7 [==============================] - 1s 129ms/step - loss: 0.5962 - accuracy: 0.9545\n",
      "Epoch 28/30\n",
      "7/7 [==============================] - 1s 129ms/step - loss: 0.5629 - accuracy: 0.9495\n",
      "Epoch 29/30\n",
      "7/7 [==============================] - 1s 127ms/step - loss: 0.5497 - accuracy: 0.9596\n",
      "Epoch 30/30\n",
      "7/7 [==============================] - 1s 132ms/step - loss: 0.5206 - accuracy: 0.9697\n"
     ]
    },
    {
     "data": {
      "text/plain": [
       "<keras.callbacks.History at 0x21b4ab00220>"
      ]
     },
     "execution_count": 9,
     "metadata": {},
     "output_type": "execute_result"
    }
   ],
   "source": [
    "model = keras.Sequential([\n",
    "    keras.layers.Flatten(input_shape=(64,64)),\n",
    "    keras.layers.Dense(2048, activation='relu'),\n",
    "    keras.layers.Dense(1024, activation='relu'),\n",
    "    keras.layers.Dense(10, activation='sigmoid')\n",
    "])\n",
    "opt = keras.optimizers.Adam(learning_rate=0.00001)\n",
    "model.compile(optimizer=opt,\n",
    "              loss='sparse_categorical_crossentropy',\n",
    "              metrics=['accuracy'])\n",
    "\n",
    "model.fit(X_train, Y_train, epochs=30)  "
   ]
  },
  {
   "cell_type": "code",
   "execution_count": 10,
   "metadata": {},
   "outputs": [
    {
     "name": "stdout",
     "output_type": "stream",
     "text": [
      "7/7 [==============================] - 0s 13ms/step - loss: 9.9522 - accuracy: 0.9548\n"
     ]
    },
    {
     "data": {
      "text/plain": [
       "[9.952239036560059, 0.9547511339187622]"
      ]
     },
     "execution_count": 10,
     "metadata": {},
     "output_type": "execute_result"
    }
   ],
   "source": [
    "model.evaluate(X, Y)"
   ]
  },
  {
   "cell_type": "code",
   "execution_count": null,
   "metadata": {},
   "outputs": [],
   "source": []
  },
  {
   "cell_type": "code",
   "execution_count": 11,
   "metadata": {},
   "outputs": [
    {
     "name": "stdout",
     "output_type": "stream",
     "text": [
      "Epoch 1/20\n",
      "7/7 [==============================] - 2s 118ms/step - loss: 2.2938 - accuracy: 0.0707\n",
      "Epoch 2/20\n",
      "7/7 [==============================] - 1s 128ms/step - loss: 2.1740 - accuracy: 0.1465\n",
      "Epoch 3/20\n",
      "7/7 [==============================] - 1s 125ms/step - loss: 2.1372 - accuracy: 0.1667\n",
      "Epoch 4/20\n",
      "7/7 [==============================] - 1s 123ms/step - loss: 2.1199 - accuracy: 0.1566\n",
      "Epoch 5/20\n",
      "7/7 [==============================] - 1s 120ms/step - loss: 2.1014 - accuracy: 0.1869\n",
      "Epoch 6/20\n",
      "7/7 [==============================] - 1s 120ms/step - loss: 2.0836 - accuracy: 0.2273\n",
      "Epoch 7/20\n",
      "7/7 [==============================] - 1s 120ms/step - loss: 2.0664 - accuracy: 0.1869\n",
      "Epoch 8/20\n",
      "7/7 [==============================] - 1s 121ms/step - loss: 2.0571 - accuracy: 0.1869\n",
      "Epoch 9/20\n",
      "7/7 [==============================] - 1s 117ms/step - loss: 2.0476 - accuracy: 0.1869\n",
      "Epoch 10/20\n",
      "7/7 [==============================] - 1s 125ms/step - loss: 2.0322 - accuracy: 0.1919\n",
      "Epoch 11/20\n",
      "7/7 [==============================] - 1s 114ms/step - loss: 2.0163 - accuracy: 0.2828\n",
      "Epoch 12/20\n",
      "7/7 [==============================] - 1s 117ms/step - loss: 2.0045 - accuracy: 0.3283\n",
      "Epoch 13/20\n",
      "7/7 [==============================] - 1s 114ms/step - loss: 1.9952 - accuracy: 0.2323\n",
      "Epoch 14/20\n",
      "7/7 [==============================] - 1s 115ms/step - loss: 1.9809 - accuracy: 0.1970\n",
      "Epoch 15/20\n",
      "7/7 [==============================] - 1s 119ms/step - loss: 1.9678 - accuracy: 0.2121\n",
      "Epoch 16/20\n",
      "7/7 [==============================] - 1s 108ms/step - loss: 1.9535 - accuracy: 0.3081\n",
      "Epoch 17/20\n",
      "7/7 [==============================] - 1s 124ms/step - loss: 1.9389 - accuracy: 0.3333\n",
      "Epoch 18/20\n",
      "7/7 [==============================] - 1s 116ms/step - loss: 1.9225 - accuracy: 0.4343\n",
      "Epoch 19/20\n",
      "7/7 [==============================] - 1s 112ms/step - loss: 1.9124 - accuracy: 0.4848\n",
      "Epoch 20/20\n",
      "7/7 [==============================] - 1s 113ms/step - loss: 1.9005 - accuracy: 0.4798\n"
     ]
    },
    {
     "data": {
      "text/plain": [
       "<keras.callbacks.History at 0x21b130db8b0>"
      ]
     },
     "execution_count": 11,
     "metadata": {},
     "output_type": "execute_result"
    }
   ],
   "source": [
    "model_cnn = keras.Sequential([\n",
    "    keras.layers.Conv2D(input_shape=(64,64,1) ,filters=32, kernel_size=(3,3), activation='relu'),\n",
    "    keras.layers.MaxPool2D((2,2)),\n",
    "    \n",
    "    keras.layers.Conv2D(filters= 32, kernel_size=(3,3), activation='relu'),\n",
    "    keras.layers.MaxPool2D((2,2)),\n",
    "    \n",
    "    keras.layers.Flatten(),\n",
    "    keras.layers.Dense(1024, activation='tanh'),\n",
    "    keras.layers.Dense(256, activation='tanh'),\n",
    "    keras.layers.Dense(10, activation='softmax')\n",
    "])\n",
    "opt = keras.optimizers.Adam(learning_rate=0.00001)\n",
    "model_cnn.compile(optimizer=opt,\n",
    "              loss='sparse_categorical_crossentropy',\n",
    "              metrics=['accuracy'])\n",
    "\n",
    "model_cnn.fit(X_train, Y_train, epochs=20) "
   ]
  },
  {
   "cell_type": "code",
   "execution_count": 12,
   "metadata": {},
   "outputs": [
    {
     "name": "stdout",
     "output_type": "stream",
     "text": [
      "7/7 [==============================] - 0s 16ms/step - loss: 2.1543 - accuracy: 0.2715\n"
     ]
    },
    {
     "data": {
      "text/plain": [
       "[2.1543476581573486, 0.27149322628974915]"
      ]
     },
     "execution_count": 12,
     "metadata": {},
     "output_type": "execute_result"
    }
   ],
   "source": [
    "model_cnn.evaluate(X, Y)"
   ]
  },
  {
   "cell_type": "code",
   "execution_count": 13,
   "metadata": {},
   "outputs": [
    {
     "name": "stdout",
     "output_type": "stream",
     "text": [
      "Keras weights file (<HDF5 file \"variables.h5\" (mode r+)>) saving:\n",
      "...layers\\dense\n",
      "......vars\n",
      ".........0\n",
      ".........1\n",
      "...layers\\dense_1\n",
      "......vars\n",
      ".........0\n",
      ".........1\n",
      "...layers\\dense_2\n",
      "......vars\n",
      ".........0\n",
      ".........1\n",
      "...layers\\flatten\n",
      "......vars\n",
      "...metrics\\mean\n",
      "......vars\n",
      ".........0\n",
      ".........1\n",
      "...metrics\\mean_metric_wrapper\n",
      "......vars\n",
      ".........0\n",
      ".........1\n",
      "...optimizer\n",
      "......vars\n",
      ".........0\n",
      ".........1\n",
      ".........10\n",
      ".........11\n",
      ".........12\n",
      ".........2\n",
      ".........3\n",
      ".........4\n",
      ".........5\n",
      ".........6\n",
      ".........7\n",
      ".........8\n",
      ".........9\n",
      "...vars\n",
      "Keras model archive saving:\n",
      "File Name                                             Modified             Size\n",
      "config.json                                    2023-02-04 14:07:44         2400\n",
      "metadata.json                                  2023-02-04 14:07:44           64\n",
      "variables.h5                                   2023-02-04 14:07:44    126014352\n"
     ]
    },
    {
     "data": {
      "text/plain": [
       "['Deep_Model.sav']"
      ]
     },
     "execution_count": 13,
     "metadata": {},
     "output_type": "execute_result"
    }
   ],
   "source": [
    "joblib.dump(model, 'Deep_Model.sav')"
   ]
  },
  {
   "cell_type": "code",
   "execution_count": null,
   "metadata": {},
   "outputs": [],
   "source": []
  }
 ],
 "metadata": {
  "kernelspec": {
   "display_name": "Python 3",
   "language": "python",
   "name": "python3"
  },
  "language_info": {
   "codemirror_mode": {
    "name": "ipython",
    "version": 3
   },
   "file_extension": ".py",
   "mimetype": "text/x-python",
   "name": "python",
   "nbconvert_exporter": "python",
   "pygments_lexer": "ipython3",
   "version": "3.10.2"
  },
  "orig_nbformat": 4,
  "vscode": {
   "interpreter": {
    "hash": "c4ed460cfcc7e2c9e821aba7a20622d20c3464e7c33cc2771b0e6335ddeb7e1f"
   }
  }
 },
 "nbformat": 4,
 "nbformat_minor": 2
}
