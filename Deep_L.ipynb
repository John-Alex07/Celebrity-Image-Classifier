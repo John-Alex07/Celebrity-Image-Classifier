{
 "cells": [
  {
   "cell_type": "code",
   "execution_count": 24,
   "metadata": {},
   "outputs": [],
   "source": [
    "import tensorflow as tf\n",
    "from tensorflow import keras\n",
    "import joblib\n",
    "from sklearn.model_selection import train_test_split\n",
    "import numpy as np\n",
    "import pandas as pd\n",
    "import cv2\n",
    "from server.Wavelet import wavelett_trans"
   ]
  },
  {
   "cell_type": "code",
   "execution_count": 19,
   "metadata": {},
   "outputs": [],
   "source": [
    "celeb_folders = joblib.load('celeb_folders')"
   ]
  },
  {
   "cell_type": "code",
   "execution_count": 25,
   "metadata": {},
   "outputs": [
    {
     "data": {
      "text/plain": [
       "{'ben_afflek': 0,\n",
       " 'jerry_seinfeld': 1,\n",
       " 'lionel_messi': 2,\n",
       " 'madonna': 3,\n",
       " 'maria_sharapova': 4,\n",
       " 'mindy_kaling': 5,\n",
       " 'roger_federer': 6,\n",
       " 'serena_williams': 7,\n",
       " 'virat_kohli': 8}"
      ]
     },
     "execution_count": 25,
     "metadata": {},
     "output_type": "execute_result"
    }
   ],
   "source": [
    "encode_celeb = {}\n",
    "c = 0\n",
    "\n",
    "for name in celeb_folders:\n",
    "    encode_celeb[name] = c\n",
    "    c += 1\n",
    "encode_celeb"
   ]
  },
  {
   "cell_type": "code",
   "execution_count": 34,
   "metadata": {},
   "outputs": [],
   "source": [
    "X = []\n",
    "Y = []\n",
    "for celeb, path in celeb_folders.items():\n",
    "    if not path:\n",
    "        continue\n",
    "    for train_data in path:\n",
    "        img_train = cv2.imread(train_data)\n",
    "        if img_train is None:\n",
    "            continue\n",
    "        scaled_raw_img = cv2.resize(img_train, (32,32))\n",
    "        img_har = wavelett_trans(img_train, level=5)\n",
    "        scaled_har_img = cv2.resize(img_har, (32,32))\n",
    "        stack_img = np.vstack((scaled_raw_img.reshape(32*32*3,1), scaled_har_img.reshape(32*32,1)))\n",
    "        stack_img = stack_img.reshape(64,64)\n",
    "        X.append(stack_img)\n",
    "        Y.append(encode_celeb[celeb])"
   ]
  },
  {
   "cell_type": "code",
   "execution_count": 54,
   "metadata": {},
   "outputs": [],
   "source": [
    "X = np.array(X, dtype=np.uint8)\n",
    "Y = np.array(Y, dtype=np.uint8)"
   ]
  },
  {
   "cell_type": "code",
   "execution_count": 73,
   "metadata": {},
   "outputs": [],
   "source": [
    "X_train, X_test, Y_train, Y_test = train_test_split(X,Y, random_state=20, test_size=0.1)"
   ]
  },
  {
   "cell_type": "code",
   "execution_count": 76,
   "metadata": {},
   "outputs": [],
   "source": [
    "X_train = X_train/255\n",
    "X_test = X_test/255"
   ]
  },
  {
   "cell_type": "code",
   "execution_count": 57,
   "metadata": {},
   "outputs": [
    {
     "data": {
      "text/plain": [
       "((218, 64, 64), (3, 64, 64))"
      ]
     },
     "execution_count": 57,
     "metadata": {},
     "output_type": "execute_result"
    }
   ],
   "source": [
    "X_train.shape, X_test.shape"
   ]
  },
  {
   "cell_type": "code",
   "execution_count": 77,
   "metadata": {},
   "outputs": [
    {
     "name": "stdout",
     "output_type": "stream",
     "text": [
      "Epoch 1/30\n",
      "7/7 [==============================] - 2s 154ms/step - loss: 2.3926 - accuracy: 0.1111\n",
      "Epoch 2/30\n",
      "7/7 [==============================] - 1s 137ms/step - loss: 2.0365 - accuracy: 0.3384\n",
      "Epoch 3/30\n",
      "7/7 [==============================] - 1s 136ms/step - loss: 1.9082 - accuracy: 0.3788\n",
      "Epoch 4/30\n",
      "7/7 [==============================] - 1s 137ms/step - loss: 1.8013 - accuracy: 0.4242\n",
      "Epoch 5/30\n",
      "7/7 [==============================] - 1s 142ms/step - loss: 1.6996 - accuracy: 0.5808\n",
      "Epoch 6/30\n",
      "7/7 [==============================] - 1s 148ms/step - loss: 1.6170 - accuracy: 0.6414\n",
      "Epoch 7/30\n",
      "7/7 [==============================] - 1s 143ms/step - loss: 1.5386 - accuracy: 0.6667\n",
      "Epoch 8/30\n",
      "7/7 [==============================] - 1s 139ms/step - loss: 1.4552 - accuracy: 0.6768\n",
      "Epoch 9/30\n",
      "7/7 [==============================] - 1s 140ms/step - loss: 1.3916 - accuracy: 0.6667\n",
      "Epoch 10/30\n",
      "7/7 [==============================] - 1s 143ms/step - loss: 1.3280 - accuracy: 0.7475\n",
      "Epoch 11/30\n",
      "7/7 [==============================] - 1s 138ms/step - loss: 1.2625 - accuracy: 0.7929\n",
      "Epoch 12/30\n",
      "7/7 [==============================] - 1s 140ms/step - loss: 1.2044 - accuracy: 0.7929\n",
      "Epoch 13/30\n",
      "7/7 [==============================] - 1s 136ms/step - loss: 1.1422 - accuracy: 0.7929\n",
      "Epoch 14/30\n",
      "7/7 [==============================] - 1s 137ms/step - loss: 1.0867 - accuracy: 0.8333\n",
      "Epoch 15/30\n",
      "7/7 [==============================] - 1s 138ms/step - loss: 1.0459 - accuracy: 0.8838\n",
      "Epoch 16/30\n",
      "7/7 [==============================] - 1s 139ms/step - loss: 0.9923 - accuracy: 0.8788\n",
      "Epoch 17/30\n",
      "7/7 [==============================] - 1s 139ms/step - loss: 0.9406 - accuracy: 0.8788\n",
      "Epoch 18/30\n",
      "7/7 [==============================] - 1s 136ms/step - loss: 0.9108 - accuracy: 0.8939\n",
      "Epoch 19/30\n",
      "7/7 [==============================] - 1s 137ms/step - loss: 0.8588 - accuracy: 0.9192\n",
      "Epoch 20/30\n",
      "7/7 [==============================] - 1s 137ms/step - loss: 0.8197 - accuracy: 0.8889\n",
      "Epoch 21/30\n",
      "7/7 [==============================] - 1s 138ms/step - loss: 0.7799 - accuracy: 0.9091\n",
      "Epoch 22/30\n",
      "7/7 [==============================] - 1s 140ms/step - loss: 0.7557 - accuracy: 0.9242\n",
      "Epoch 23/30\n",
      "7/7 [==============================] - 1s 142ms/step - loss: 0.7151 - accuracy: 0.9242\n",
      "Epoch 24/30\n",
      "7/7 [==============================] - 1s 137ms/step - loss: 0.6893 - accuracy: 0.9040\n",
      "Epoch 25/30\n",
      "7/7 [==============================] - 1s 144ms/step - loss: 0.6500 - accuracy: 0.9444\n",
      "Epoch 26/30\n",
      "7/7 [==============================] - 1s 144ms/step - loss: 0.6279 - accuracy: 0.9444\n",
      "Epoch 27/30\n",
      "7/7 [==============================] - 1s 142ms/step - loss: 0.5942 - accuracy: 0.9545\n",
      "Epoch 28/30\n",
      "7/7 [==============================] - 1s 142ms/step - loss: 0.5743 - accuracy: 0.9596\n",
      "Epoch 29/30\n",
      "7/7 [==============================] - 1s 144ms/step - loss: 0.5488 - accuracy: 0.9747\n",
      "Epoch 30/30\n",
      "7/7 [==============================] - 1s 141ms/step - loss: 0.5244 - accuracy: 0.9747\n"
     ]
    },
    {
     "data": {
      "text/plain": [
       "<keras.callbacks.History at 0x26fbd215060>"
      ]
     },
     "execution_count": 77,
     "metadata": {},
     "output_type": "execute_result"
    }
   ],
   "source": [
    "model = keras.Sequential([\n",
    "    keras.layers.Flatten(input_shape=(64,64)),\n",
    "    keras.layers.Dense(2048, activation='relu'),\n",
    "    keras.layers.Dense(1024, activation='relu'),\n",
    "    keras.layers.Dense(10, activation='sigmoid')\n",
    "])\n",
    "opt = keras.optimizers.Adam(learning_rate=0.00001)\n",
    "model.compile(optimizer=opt,\n",
    "              loss='sparse_categorical_crossentropy',\n",
    "              metrics=['accuracy'])\n",
    "\n",
    "model.fit(X_train, Y_train, epochs=30)  "
   ]
  },
  {
   "cell_type": "code",
   "execution_count": 87,
   "metadata": {},
   "outputs": [
    {
     "name": "stdout",
     "output_type": "stream",
     "text": [
      "7/7 [==============================] - 0s 16ms/step - loss: 9.4711 - accuracy: 0.9502\n"
     ]
    },
    {
     "data": {
      "text/plain": [
       "[9.471148490905762, 0.9502262473106384]"
      ]
     },
     "execution_count": 87,
     "metadata": {},
     "output_type": "execute_result"
    }
   ],
   "source": [
    "model.evaluate(X, Y)"
   ]
  },
  {
   "cell_type": "code",
   "execution_count": null,
   "metadata": {},
   "outputs": [],
   "source": []
  },
  {
   "cell_type": "code",
   "execution_count": 91,
   "metadata": {},
   "outputs": [
    {
     "name": "stdout",
     "output_type": "stream",
     "text": [
      "Epoch 1/20\n",
      "7/7 [==============================] - 2s 194ms/step - loss: 2.2389 - accuracy: 0.1717\n",
      "Epoch 2/20\n",
      "7/7 [==============================] - 1s 199ms/step - loss: 2.1296 - accuracy: 0.2121\n",
      "Epoch 3/20\n",
      "7/7 [==============================] - 1s 169ms/step - loss: 2.1071 - accuracy: 0.1818\n",
      "Epoch 4/20\n",
      "7/7 [==============================] - 1s 165ms/step - loss: 2.0834 - accuracy: 0.1970\n",
      "Epoch 5/20\n",
      "7/7 [==============================] - 1s 194ms/step - loss: 2.0754 - accuracy: 0.2424\n",
      "Epoch 6/20\n",
      "7/7 [==============================] - 1s 184ms/step - loss: 2.0572 - accuracy: 0.2576\n",
      "Epoch 7/20\n",
      "7/7 [==============================] - 1s 174ms/step - loss: 2.0486 - accuracy: 0.1869\n",
      "Epoch 8/20\n",
      "7/7 [==============================] - 1s 164ms/step - loss: 2.0382 - accuracy: 0.2172\n",
      "Epoch 9/20\n",
      "7/7 [==============================] - 1s 174ms/step - loss: 2.0258 - accuracy: 0.1717\n",
      "Epoch 10/20\n",
      "7/7 [==============================] - 1s 190ms/step - loss: 1.9998 - accuracy: 0.3182\n",
      "Epoch 11/20\n",
      "7/7 [==============================] - 1s 179ms/step - loss: 1.9917 - accuracy: 0.2020\n",
      "Epoch 12/20\n",
      "7/7 [==============================] - 1s 163ms/step - loss: 1.9795 - accuracy: 0.2121\n",
      "Epoch 13/20\n",
      "7/7 [==============================] - 1s 201ms/step - loss: 1.9626 - accuracy: 0.3333\n",
      "Epoch 14/20\n",
      "7/7 [==============================] - 1s 183ms/step - loss: 1.9502 - accuracy: 0.3232\n",
      "Epoch 15/20\n",
      "7/7 [==============================] - 1s 195ms/step - loss: 1.9364 - accuracy: 0.3434\n",
      "Epoch 16/20\n",
      "7/7 [==============================] - 2s 237ms/step - loss: 1.9270 - accuracy: 0.3434\n",
      "Epoch 17/20\n",
      "7/7 [==============================] - 2s 213ms/step - loss: 1.9089 - accuracy: 0.4343\n",
      "Epoch 18/20\n",
      "7/7 [==============================] - 1s 179ms/step - loss: 1.8900 - accuracy: 0.4444\n",
      "Epoch 19/20\n",
      "7/7 [==============================] - 1s 192ms/step - loss: 1.8782 - accuracy: 0.3283\n",
      "Epoch 20/20\n",
      "7/7 [==============================] - 1s 192ms/step - loss: 1.8595 - accuracy: 0.2879\n"
     ]
    },
    {
     "data": {
      "text/plain": [
       "<keras.callbacks.History at 0x270248277f0>"
      ]
     },
     "execution_count": 91,
     "metadata": {},
     "output_type": "execute_result"
    }
   ],
   "source": [
    "model_cnn = keras.Sequential([\n",
    "    keras.layers.Conv2D(input_shape=(64,64,1) ,filters=32, kernel_size=(3,3), activation='relu'),\n",
    "    keras.layers.MaxPool2D((2,2)),\n",
    "    \n",
    "    keras.layers.Conv2D(filters= 32, kernel_size=(3,3), activation='relu'),\n",
    "    keras.layers.MaxPool2D((2,2)),\n",
    "    \n",
    "    keras.layers.Flatten(),\n",
    "    keras.layers.Dense(1024, activation='tanh'),\n",
    "    keras.layers.Dense(256, activation='tanh'),\n",
    "    keras.layers.Dense(10, activation='softmax')\n",
    "])\n",
    "opt = keras.optimizers.Adam(learning_rate=0.00001)\n",
    "model_cnn.compile(optimizer=opt,\n",
    "              loss='sparse_categorical_crossentropy',\n",
    "              metrics=['accuracy'])\n",
    "\n",
    "model_cnn.fit(X_train, Y_train, epochs=20) "
   ]
  },
  {
   "cell_type": "code",
   "execution_count": 89,
   "metadata": {},
   "outputs": [
    {
     "name": "stdout",
     "output_type": "stream",
     "text": [
      "7/7 [==============================] - 0s 30ms/step - loss: 0.3050 - accuracy: 0.8914\n"
     ]
    },
    {
     "data": {
      "text/plain": [
       "[0.30495548248291016, 0.8914027214050293]"
      ]
     },
     "execution_count": 89,
     "metadata": {},
     "output_type": "execute_result"
    }
   ],
   "source": [
    "model_cnn.evaluate(X, Y)"
   ]
  }
 ],
 "metadata": {
  "kernelspec": {
   "display_name": "Python 3",
   "language": "python",
   "name": "python3"
  },
  "language_info": {
   "codemirror_mode": {
    "name": "ipython",
    "version": 3
   },
   "file_extension": ".py",
   "mimetype": "text/x-python",
   "name": "python",
   "nbconvert_exporter": "python",
   "pygments_lexer": "ipython3",
   "version": "3.10.2"
  },
  "orig_nbformat": 4,
  "vscode": {
   "interpreter": {
    "hash": "c4ed460cfcc7e2c9e821aba7a20622d20c3464e7c33cc2771b0e6335ddeb7e1f"
   }
  }
 },
 "nbformat": 4,
 "nbformat_minor": 2
}
